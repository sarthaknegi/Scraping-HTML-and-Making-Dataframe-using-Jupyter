{
 "cells": [
  {
   "cell_type": "code",
   "execution_count": 266,
   "metadata": {
    "collapsed": true
   },
   "outputs": [],
   "source": [
    "from pandas import Series, DataFrame\n",
    "import json\n",
    "import urllib"
   ]
  },
  {
   "cell_type": "markdown",
   "metadata": {},
   "source": [
    "# Finding the firms related to BlackStone in the Manhattan, New York Area"
   ]
  },
  {
   "cell_type": "code",
   "execution_count": 267,
   "metadata": {
    "collapsed": true
   },
   "outputs": [],
   "source": [
    "i=-1\n",
    "url = \"https://doppler.finra.org/doppler-lookup/api/v1/search/firms?hl=true&nrows=99000&query=Blackstone&r=2500&wt=json\""
   ]
  },
  {
   "cell_type": "code",
   "execution_count": 268,
   "metadata": {
    "collapsed": true
   },
   "outputs": [],
   "source": [
    "response = urllib.request.urlopen(url)\n",
    "blackstone_entities = json.loads(response.read())"
   ]
  },
  {
   "cell_type": "code",
   "execution_count": 269,
   "metadata": {
    "collapsed": true
   },
   "outputs": [],
   "source": [
    "word = \"345\"\n",
    "bc_firm_name = []\n",
    "bc_source_id = []\n",
    "count = 0"
   ]
  },
  {
   "cell_type": "code",
   "execution_count": 270,
   "metadata": {
    "collapsed": true
   },
   "outputs": [],
   "source": [
    "word = \"345\"\n",
    "bc_firm_name = []\n",
    "bc_source_id = []\n",
    "count = 0\n",
    "for j in blackstone_entities['results']['BROKER_CHECK_FIRM']['results']:\n",
    "    i = i + 1;\n",
    "    score = blackstone_entities['results']['BROKER_CHECK_FIRM']['results'][i]['fields']['score']\n",
    "    if(score > 0.4):\n",
    "        try:\n",
    "            address = blackstone_entities['results']['BROKER_CHECK_FIRM']['results'][i]['fields'][\n",
    "                'bc_ia_address_details']\n",
    "            count = address.count(word)\n",
    "            if(count > 0):\n",
    "                bc_firm_name.append(blackstone_entities['results']['BROKER_CHECK_FIRM']['results'][i]['fields']['bc_firm_name'])\n",
    "                bc_source_id.append(blackstone_entities['results']['BROKER_CHECK_FIRM']['results'][i]['fields']['bc_source_id'])\n",
    "        except:\n",
    "            pass\n"
   ]
  },
  {
   "cell_type": "code",
   "execution_count": 271,
   "metadata": {
    "collapsed": true
   },
   "outputs": [],
   "source": [
    "dataframe = DataFrame(bc_firm_name, columns=['bc_firm_name'])\n",
    "dataframe['bc_source_id'] = bc_source_id"
   ]
  },
  {
   "cell_type": "code",
   "execution_count": 273,
   "metadata": {
    "collapsed": true
   },
   "outputs": [],
   "source": [
    "# DataFrame depicting the firm name and their source id"
   ]
  },
  {
   "cell_type": "code",
   "execution_count": 274,
   "metadata": {
    "collapsed": false
   },
   "outputs": [
    {
     "data": {
      "text/html": [
       "<div>\n",
       "<table border=\"1\" class=\"dataframe\">\n",
       "  <thead>\n",
       "    <tr style=\"text-align: right;\">\n",
       "      <th></th>\n",
       "      <th>bc_firm_name</th>\n",
       "      <th>bc_source_id</th>\n",
       "    </tr>\n",
       "  </thead>\n",
       "  <tbody>\n",
       "    <tr>\n",
       "      <th>0</th>\n",
       "      <td>BLACKSTONE MEZZANINE ADVISORS LP</td>\n",
       "      <td>109099</td>\n",
       "    </tr>\n",
       "    <tr>\n",
       "      <th>1</th>\n",
       "      <td>BLACKSTONE MANAGEMENT PARTNERS LP</td>\n",
       "      <td>109108</td>\n",
       "    </tr>\n",
       "    <tr>\n",
       "      <th>2</th>\n",
       "      <td>BLACKSTONE ALTERNATIVE INVESTMENT ADVISORS LLC</td>\n",
       "      <td>165782</td>\n",
       "    </tr>\n",
       "    <tr>\n",
       "      <th>3</th>\n",
       "      <td>BLACKSTONE PROPERTY ADVISORS L.P.</td>\n",
       "      <td>226598</td>\n",
       "    </tr>\n",
       "    <tr>\n",
       "      <th>4</th>\n",
       "      <td>BLACKSTONE DEBT ADVISORS L.P.</td>\n",
       "      <td>120934</td>\n",
       "    </tr>\n",
       "    <tr>\n",
       "      <th>5</th>\n",
       "      <td>BLACKSTONE ALTERNATIVE ASSET MANAGEMENT LP</td>\n",
       "      <td>107580</td>\n",
       "    </tr>\n",
       "    <tr>\n",
       "      <th>6</th>\n",
       "      <td>BLACKSTONE REAL ESTATE ADVISORS LP</td>\n",
       "      <td>109110</td>\n",
       "    </tr>\n",
       "    <tr>\n",
       "      <th>7</th>\n",
       "      <td>BLACKSTONE COMMUNICATIONS ADVISORS I LLC</td>\n",
       "      <td>109106</td>\n",
       "    </tr>\n",
       "    <tr>\n",
       "      <th>8</th>\n",
       "      <td>BLACKSTONE MANAGEMENT PARTNERS III LLC</td>\n",
       "      <td>109103</td>\n",
       "    </tr>\n",
       "  </tbody>\n",
       "</table>\n",
       "</div>"
      ],
      "text/plain": [
       "                                     bc_firm_name bc_source_id\n",
       "0                BLACKSTONE MEZZANINE ADVISORS LP       109099\n",
       "1               BLACKSTONE MANAGEMENT PARTNERS LP       109108\n",
       "2  BLACKSTONE ALTERNATIVE INVESTMENT ADVISORS LLC       165782\n",
       "3               BLACKSTONE PROPERTY ADVISORS L.P.       226598\n",
       "4                   BLACKSTONE DEBT ADVISORS L.P.       120934\n",
       "5      BLACKSTONE ALTERNATIVE ASSET MANAGEMENT LP       107580\n",
       "6              BLACKSTONE REAL ESTATE ADVISORS LP       109110\n",
       "7        BLACKSTONE COMMUNICATIONS ADVISORS I LLC       109106\n",
       "8          BLACKSTONE MANAGEMENT PARTNERS III LLC       109103"
      ]
     },
     "execution_count": 274,
     "metadata": {},
     "output_type": "execute_result"
    }
   ],
   "source": [
    "dataframe"
   ]
  },
  {
   "cell_type": "code",
   "execution_count": null,
   "metadata": {
    "collapsed": true
   },
   "outputs": [],
   "source": []
  }
 ],
 "metadata": {
  "kernelspec": {
   "display_name": "Python 3",
   "language": "python",
   "name": "python3"
  },
  "language_info": {
   "codemirror_mode": {
    "name": "ipython",
    "version": 3
   },
   "file_extension": ".py",
   "mimetype": "text/x-python",
   "name": "python",
   "nbconvert_exporter": "python",
   "pygments_lexer": "ipython3",
   "version": "3.6.0"
  }
 },
 "nbformat": 4,
 "nbformat_minor": 2
}
